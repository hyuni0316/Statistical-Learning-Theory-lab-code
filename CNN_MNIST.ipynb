{
  "cells": [
    {
      "cell_type": "code",
      "execution_count": 8,
      "metadata": {
        "id": "hEUZ3qLEWtyg"
      },
      "outputs": [],
      "source": [
        "import torch\n",
        "import matplotlib.pyplot as plt\n",
        "import numpy as np\n",
        "import torch.nn.functional as F\n",
        "from torch import nn\n",
        "from torchvision import datasets, transforms"
      ]
    },
    {
      "cell_type": "code",
      "execution_count": 18,
      "metadata": {},
      "outputs": [
        {
          "data": {
            "text/plain": [
              "True"
            ]
          },
          "execution_count": 18,
          "metadata": {},
          "output_type": "execute_result"
        }
      ],
      "source": [
        "device = torch.device(\"cuda:0\" if torch.cuda.is_available() else \"cpu\") # use GPU"
      ]
    },
    {
      "cell_type": "code",
      "execution_count": 10,
      "metadata": {
        "colab": {
          "base_uri": "https://localhost:8080/",
          "height": 385,
          "referenced_widgets": [
            "bb90d443a0cc4f44b01bdd33f01a00b2",
            "29cff0d25e01421c8aa786c0e80fb8f3",
            "417a978da0d14cb99e6f130b6b8437e2",
            "2e6eb16a0fce40a69cc28b661431dc92",
            "2e449f1b86574d499d0e99bcfccf78a0",
            "56a9b4a470bb4099a5832b6fc98a7204",
            "2ed89cbbc70c4ff4baa7d0c30890ac39",
            "01b988ed524b43b8be8f079771088e91",
            "f4285f8d1c6b490fb8a9412e8cf1090d",
            "7b71f09ff48945bfbba878dd1f4ea16c",
            "b7a9e973b97748ef89d588f74e708ffa",
            "4c5ce2ddaca54c33a2e413d119d058c4",
            "1d912b038793460bb6a8aff5223e232e",
            "c9e1b800fdb749eca816b599de11e589",
            "78cf95a4a91e4d8e9a48551872133a45",
            "e95d2b3222f84f61a51167e535c074ba",
            "bfd1d3d866444ba5b39670295d18beb4",
            "413e5ed8538c4c5fb26d725ad5c886b5",
            "79a2507a6c28418fa1eb77d177b752cd",
            "803843e6b31b442ab7ec1535dff40811",
            "bd9bcf261d304b0d965a5e22dd7822af",
            "bc3ac65921e94e248e5062d1efc6f56e",
            "d7feb8e169d640fca9d98f1ab0f51325",
            "39e3d15564cb4b9cb1da0dd0dd189e37",
            "958dbab978cc4262810e934bfe2e34e5",
            "a9e2cf9b6e924c9fb327a186eae607a8",
            "350e5d5fb5844bcbb0108e68533069ca",
            "daa313fd858c4b50a46811bfb905ea5c",
            "3be6bc08e5ca4a3cb536841884bc16d6",
            "71a97c2613f24cd690f7b8db508ee11f",
            "7f9aed9fb05a4461a13e2217dcf9b663",
            "1cd4cda568864bbb8b3f17d1a4119f61"
          ]
        },
        "id": "JSiGUFdkaS38",
        "outputId": "7a9e6de1-05a9-41c6-c91a-acb9ebf348b1"
      },
      "outputs": [],
      "source": [
        "mnist_transform=transforms.Compose([\n",
        "                              transforms.Resize((28,28)),\n",
        "                              transforms.ToTensor(), # first, convert image to PyTorch (float) tensor\n",
        "                              transforms.Normalize((0.5,), (0.5,)) # normalize inputs, x' = (x-u)/std, x'=[-1, 1] \n",
        "                              ])     \n",
        "\n",
        "train_dataset = datasets.MNIST(root='./mnist_data', \n",
        "                                  train=True, \n",
        "                                  download=True, \n",
        "                                  transform=mnist_transform)\n",
        "\n",
        "train_loader = torch.utils.data.DataLoader(train_dataset, batch_size=100, shuffle=True) \n",
        "# shuffle training data before each epoch to avoid local min\n",
        "\n",
        "# validation or test \n",
        "validation_dataset = datasets.MNIST(root='./mnist_data', \n",
        "                                  train=False, \n",
        "                                  download=True, \n",
        "                                  transform=mnist_transform)\n",
        "\n",
        "validation_loader = torch.utils.data.DataLoader(validation_dataset, batch_size=100, shuffle=False) \n",
        "#print(train_dataset)\n",
        "#print(validation_dataset)"
      ]
    },
    {
      "cell_type": "markdown",
      "metadata": {
        "id": "1zbBbsxjegop"
      },
      "source": [
        "# contruct model architecture"
      ]
    },
    {
      "cell_type": "code",
      "execution_count": 11,
      "metadata": {
        "id": "L8hJOKWdef0h"
      },
      "outputs": [],
      "source": [
        "class CNN_MNIST(nn.Module):\n",
        "  def __init__(self):\n",
        "    super().__init__()\n",
        "    self.conv1 = nn.Conv2d(in_channels = 1, out_channels = 15, \n",
        "                           kernel_size = 5, stride = 1, padding = 0)\n",
        "    self.conv2 = nn.Conv2d(in_channels = 15, out_channels = 30, \n",
        "                           kernel_size = 3, stride = 1, padding = 0)\n",
        "    self.fc1 = nn.Linear(5*5*30, 500)\n",
        "    self.fc2 = nn.Linear(500, 10)\n",
        "\n",
        "  def forward(self, x):\n",
        "    x = F.tanh(self.conv1(x))\n",
        "    x = F.max_pool2d(x, kernel_size = 2, stride = 2)\n",
        "    x = F.tanh(self.conv2(x))\n",
        "    x = F.max_pool2d(x, kernel_size = 2, stride = 2)\n",
        "    x = x.view(-1, 5*5*30)      # flattening, torch.Size([batch 100, 5*5*30=750])  \n",
        "    x = F.tanh(self.fc1(x))\n",
        "    x = self.fc2(x)\n",
        "    return x"
      ]
    },
    {
      "cell_type": "markdown",
      "metadata": {
        "id": "cKUaNDY8g8ry"
      },
      "source": [
        "# make model instance \n"
      ]
    },
    {
      "cell_type": "code",
      "execution_count": 19,
      "metadata": {
        "colab": {
          "base_uri": "https://localhost:8080/"
        },
        "id": "k-3h4gCGgfs4",
        "outputId": "62d9ac46-03e1-4f65-d507-1c5829a5d400"
      },
      "outputs": [
        {
          "data": {
            "text/plain": [
              "CNN_MNIST(\n",
              "  (conv1): Conv2d(1, 15, kernel_size=(5, 5), stride=(1, 1))\n",
              "  (conv2): Conv2d(15, 30, kernel_size=(3, 3), stride=(1, 1))\n",
              "  (fc1): Linear(in_features=750, out_features=500, bias=True)\n",
              "  (fc2): Linear(in_features=500, out_features=10, bias=True)\n",
              ")"
            ]
          },
          "execution_count": 19,
          "metadata": {},
          "output_type": "execute_result"
        }
      ],
      "source": [
        "torch.manual_seed(1)\n",
        "model = CNN_MNIST().to(device) # use GPU\n",
        "model"
      ]
    },
    {
      "cell_type": "markdown",
      "metadata": {
        "id": "Lc1nU9M8g_Me"
      },
      "source": [
        "# optimizer "
      ]
    },
    {
      "cell_type": "code",
      "execution_count": 13,
      "metadata": {
        "id": "nODj6oD3hDyv"
      },
      "outputs": [],
      "source": [
        "# optimizer = torch.optim.Adam(model.parameters(), lr=0.01)\n",
        "optimizer = torch.optim.SGD(model.parameters(), lr=0.001)\n",
        "criterion = nn.CrossEntropyLoss() # cf. BCE()"
      ]
    },
    {
      "cell_type": "code",
      "execution_count": 14,
      "metadata": {
        "colab": {
          "base_uri": "https://localhost:8080/"
        },
        "id": "uhmMC4Vlmsx0",
        "outputId": "0e7e1f22-c652-4a53-8950-298b2a657652"
      },
      "outputs": [
        {
          "name": "stderr",
          "output_type": "stream",
          "text": [
            "C:\\Users\\jhcho\\Anaconda3\\envs\\pt181\\lib\\site-packages\\torch\\nn\\functional.py:1698: UserWarning: nn.functional.tanh is deprecated. Use torch.tanh instead.\n",
            "  warnings.warn(\"nn.functional.tanh is deprecated. Use torch.tanh instead.\")\n"
          ]
        },
        {
          "name": "stdout",
          "output_type": "stream",
          "text": [
            "--------------- epoch:  1 ---------------\n",
            "training loss: 2.2332, accuracy 26.8167\n",
            "validation loss: 2.1435, accuracy 42.8100\n",
            "--------------- epoch:  2 ---------------\n",
            "training loss: 2.0005, accuracy 53.1983\n",
            "validation loss: 1.8104, accuracy 61.6400\n",
            "--------------- epoch:  3 ---------------\n",
            "training loss: 1.5988, accuracy 65.4200\n",
            "validation loss: 1.3684, accuracy 71.1500\n",
            "--------------- epoch:  4 ---------------\n",
            "training loss: 1.2053, accuracy 73.6917\n",
            "validation loss: 1.0345, accuracy 77.1300\n",
            "--------------- epoch:  5 ---------------\n",
            "training loss: 0.9399, accuracy 78.5067\n",
            "validation loss: 0.8283, accuracy 81.0600\n"
          ]
        }
      ],
      "source": [
        "epochs = 5\n",
        "running_loss_history = []\n",
        "running_corrects_history = []\n",
        "validation_running_loss_history = []\n",
        "validation_running_corrects_history = []\n",
        "\n",
        "for eno in range(epochs):\n",
        "\n",
        "  running_loss = 0.0\n",
        "  running_corrects = 0.0\n",
        "  validation_running_loss = 0.0\n",
        "  validation_running_corrects = 0.0\n",
        "\n",
        "  # a batch of 100 images x 600 batches -> 60,000 for a single epoch \n",
        "  for inputs, labels in train_loader:     \n",
        "    inputs = inputs.to(device) # use GPU\n",
        "    labels = labels.to(device) # use GPU\n",
        "    \n",
        "    # input [100(batch size), 1(channel), 28(width), 28(height)] =>     \n",
        "    ## inputs = inputs.view(inputs.shape[0], -1) # [100, 784]\n",
        "    outputs = model(inputs) # logits (scores)\n",
        "    loss = criterion(outputs, labels) # outputs [100, 1], labels [100]\n",
        "    \n",
        "    optimizer.zero_grad()\n",
        "    loss.backward()\n",
        "    optimizer.step()\n",
        "\n",
        "    #max function output(max, max_indices)\n",
        "    _, pred_idx = torch.max(outputs, 1) # 2nd argument - the dim to reduce    \n",
        "\n",
        "    running_loss += loss.item() # loss per batch \n",
        "    running_corrects += torch.sum(pred_idx == labels.data)\n",
        "  else:\n",
        "    with torch.no_grad():\n",
        "      for validation_inputs, validation_labels in validation_loader:     \n",
        "        validation_inputs = validation_inputs.to(device) # use GPU\n",
        "        validation_labels = validation_labels.to(device) # use GPU\n",
        "        # input [100(batch size), 1(channel), 28(width), 28(height)] =>     \n",
        "        ## validation_inputs = validation_inputs.view(validation_inputs.shape[0], -1) # [100, 784]\n",
        "        validation_outputs = model(validation_inputs) # logits (scores)\n",
        "        validation_loss = criterion(validation_outputs, validation_labels) # outputs [100, 1], labels [100]\n",
        "        \n",
        "        #max function output(max, max_indices)\n",
        "        _, pred_idx = torch.max(validation_outputs, 1) # 2nd argument - the dim to reduce    \n",
        "\n",
        "        validation_running_loss += validation_loss.item() # loss per batch \n",
        "        validation_running_corrects += torch.sum(pred_idx == validation_labels.data)\n",
        "\n",
        "    epoch_loss = running_loss/len(train_loader) \n",
        "    running_loss_history.append(epoch_loss)\n",
        "    epoch_acc = (running_corrects.float()/inputs.shape[0]*100)/len(train_loader) \n",
        "    running_corrects_history.append(epoch_acc)\n",
        "    print('--------------- epoch: ', (eno+1), '---------------')\n",
        "    print('training loss: {:.4f}, accuracy {:.4f}'.format(epoch_loss, epoch_acc.item()))   \n",
        "\n",
        "    validation_epoch_loss = validation_running_loss/len(validation_loader) \n",
        "    validation_running_loss_history.append(validation_epoch_loss)\n",
        "    validation_epoch_acc = (validation_running_corrects.float()/validation_inputs.shape[0]*100)/len(validation_loader) \n",
        "    validation_running_corrects_history.append(validation_epoch_acc)    \n",
        "    print('validation loss: {:.4f}, accuracy {:.4f}'.format(validation_epoch_loss, validation_epoch_acc.item())) "
      ]
    },
    {
      "cell_type": "code",
      "execution_count": 15,
      "metadata": {
        "colab": {
          "base_uri": "https://localhost:8080/",
          "height": 283
        },
        "id": "uvtvO2UHvOrX",
        "outputId": "88909162-c985-4a69-f0b6-83484c0ac3a2"
      },
      "outputs": [
        {
          "data": {
            "text/plain": [
              "<matplotlib.legend.Legend at 0x18a03507eb0>"
            ]
          },
          "execution_count": 15,
          "metadata": {},
          "output_type": "execute_result"
        },
        {
          "data": {
            "image/png": "[encoded data removed]",
            "text/plain": [
              "<Figure size 432x288 with 1 Axes>"
            ]
          },
          "metadata": {
            "needs_background": "light"
          },
          "output_type": "display_data"
        }
      ],
      "source": [
        "plt.plot(running_loss_history, label='training loss')\n",
        "plt.plot(validation_running_loss_history, label='validation loss')\n",
        "plt.legend()"
      ]
    },
    {
      "cell_type": "code",
      "execution_count": 16,
      "metadata": {
        "colab": {
          "base_uri": "https://localhost:8080/",
          "height": 283
        },
        "id": "AcLamulgvbzr",
        "outputId": "9905b256-85e9-462e-84d8-a45379656681"
      },
      "outputs": [
        {
          "data": {
            "text/plain": [
              "<matplotlib.legend.Legend at 0x18a03456d00>"
            ]
          },
          "execution_count": 16,
          "metadata": {},
          "output_type": "execute_result"
        },
        {
          "data": {
            "image/png": "[encoded data removed]",
            "text/plain": [
              "<Figure size 432x288 with 1 Axes>"
            ]
          },
          "metadata": {
            "needs_background": "light"
          },
          "output_type": "display_data"
        }
      ],
      "source": [
        "plt.plot(running_corrects_history, label='training accuracy(%)')\n",
        "plt.plot(validation_running_corrects_history, label='validation accuracy(%)')\n",
        "plt.legend()"
      ]
    },
    {
      "cell_type": "markdown",
      "metadata": {
        "id": "kuBHXUbqpD06"
      },
      "source": [
        "# minist data visualization "
      ]
    },
    {
      "cell_type": "code",
      "execution_count": 17,
      "metadata": {
        "colab": {
          "base_uri": "https://localhost:8080/",
          "height": 1000
        },
        "id": "tZyKbTmYpDD9",
        "outputId": "ece40b12-35bf-4826-a44a-f60189c8e4cd"
      },
      "outputs": [
        {
          "data": {
            "image/png": "[encoded data removed]",
            "text/plain": [
              "<Figure size 1800x1800 with 100 Axes>"
            ]
          },
          "metadata": {},
          "output_type": "display_data"
        }
      ],
      "source": [
        "# iter() returns an iterator for the given iterable object\n",
        "dataiter = iter(validation_loader)\n",
        "inputs, labels = dataiter.next()\n",
        "#outputs = model(inputs.view(inputs.shape[0], -1)) # logits (scores)\n",
        "outputs = model(inputs) # logits (scores)\n",
        "_, pred_idx = torch.max(outputs, 1) # 2nd argument - the dim to reduce    \n",
        "\n",
        "fig = plt.figure(figsize=(25, 25))\n",
        "\n",
        "for idx in np.arange(len(dataiter)): \n",
        "  ax = fig.add_subplot(10, 10, idx+1, xticks=[], yticks=[])\n",
        "\n",
        "  image = inputs[idx].clone().detach().numpy() # [1, 28, 28] = [channel, width, height]\n",
        "  image = image.transpose(1, 2, 0) # [28, 28, 1]\n",
        "  image = image * np.array((0.5, 0.5, 0.5)) + np.array((0.5, 0.5, 0.5)) # denomalization : x' = (x-u)/std => x = x'*std + u\n",
        "  image = image.clip(0, 1)\n",
        "  plt.imshow(image)\n",
        "\n",
        "  ax.set_title(\"P{} / L{}\".format(str(pred_idx[idx].item()), str(labels[idx].item())), color=(\"red\" if pred_idx[idx]!=labels[idx] else \"black\"))\n",
        "\n",
        "\n",
        "\n",
        "  \n"
      ]
    }
  ],
  "metadata": {
    "colab": {
      "collapsed_sections": [],
      "name": "CNN_MNIST.ipynb",
      "provenance": []
    },
    "kernelspec": {
      "display_name": "Python 3",
      "name": "python3"
    },
    "language_info": {
      "codemirror_mode": {
        "name": "ipython",
        "version": 3
      },
      "file_extension": ".py",
      "mimetype": "text/x-python",
      "name": "python",
      "nbconvert_exporter": "python",
      "pygments_lexer": "ipython3",
      "version": "3.8.8"
    },
    "widgets": {
      "application/vnd.jupyter.widget-state+json": {
        "01b988ed524b43b8be8f079771088e91": {
          "model_module": "@jupyter-widgets/base",
          "model_name": "LayoutModel",
          "state": {
            "_model_module": "@jupyter-widgets/base",
            "_model_module_version": "1.2.0",
            "_model_name": "LayoutModel",
            "_view_count": null,
            "_view_module": "@jupyter-widgets/base",
            "_view_module_version": "1.2.0",
            "_view_name": "LayoutView",
            "align_content": null,
            "align_items": null,
            "align_self": null,
            "border": null,
            "bottom": null,
            "display": null,
            "flex": null,
            "flex_flow": null,
            "grid_area": null,
            "grid_auto_columns": null,
            "grid_auto_flow": null,
            "grid_auto_rows": null,
            "grid_column": null,
            "grid_gap": null,
            "grid_row": null,
            "grid_template_areas": null,
            "grid_template_columns": null,
            "grid_template_rows": null,
            "height": null,
            "justify_content": null,
            "justify_items": null,
            "left": null,
            "margin": null,
            "max_height": null,
            "max_width": null,
            "min_height": null,
            "min_width": null,
            "object_fit": null,
            "object_position": null,
            "order": null,
            "overflow": null,
            "overflow_x": null,
            "overflow_y": null,
            "padding": null,
            "right": null,
            "top": null,
            "visibility": null,
            "width": null
          }
        },
        "1cd4cda568864bbb8b3f17d1a4119f61": {
          "model_module": "@jupyter-widgets/base",
          "model_name": "LayoutModel",
          "state": {
            "_model_module": "@jupyter-widgets/base",
            "_model_module_version": "1.2.0",
            "_model_name": "LayoutModel",
            "_view_count": null,
            "_view_module": "@jupyter-widgets/base",
            "_view_module_version": "1.2.0",
            "_view_name": "LayoutView",
            "align_content": null,
            "align_items": null,
            "align_self": null,
            "border": null,
            "bottom": null,
            "display": null,
            "flex": null,
            "flex_flow": null,
            "grid_area": null,
            "grid_auto_columns": null,
            "grid_auto_flow": null,
            "grid_auto_rows": null,
            "grid_column": null,
            "grid_gap": null,
            "grid_row": null,
            "grid_template_areas": null,
            "grid_template_columns": null,
            "grid_template_rows": null,
            "height": null,
            "justify_content": null,
            "justify_items": null,
            "left": null,
            "margin": null,
            "max_height": null,
            "max_width": null,
            "min_height": null,
            "min_width": null,
            "object_fit": null,
            "object_position": null,
            "order": null,
            "overflow": null,
            "overflow_x": null,
            "overflow_y": null,
            "padding": null,
            "right": null,
            "top": null,
            "visibility": null,
            "width": null
          }
        },
        "1d912b038793460bb6a8aff5223e232e": {
          "model_module": "@jupyter-widgets/controls",
          "model_name": "ProgressStyleModel",
          "state": {
            "_model_module": "@jupyter-widgets/controls",
            "_model_module_version": "1.5.0",
            "_model_name": "ProgressStyleModel",
            "_view_count": null,
            "_view_module": "@jupyter-widgets/base",
            "_view_module_version": "1.2.0",
            "_view_name": "StyleView",
            "bar_color": null,
            "description_width": "initial"
          }
        },
        "29cff0d25e01421c8aa786c0e80fb8f3": {
          "model_module": "@jupyter-widgets/base",
          "model_name": "LayoutModel",
          "state": {
            "_model_module": "@jupyter-widgets/base",
            "_model_module_version": "1.2.0",
            "_model_name": "LayoutModel",
            "_view_count": null,
            "_view_module": "@jupyter-widgets/base",
            "_view_module_version": "1.2.0",
            "_view_name": "LayoutView",
            "align_content": null,
            "align_items": null,
            "align_self": null,
            "border": null,
            "bottom": null,
            "display": null,
            "flex": null,
            "flex_flow": null,
            "grid_area": null,
            "grid_auto_columns": null,
            "grid_auto_flow": null,
            "grid_auto_rows": null,
            "grid_column": null,
            "grid_gap": null,
            "grid_row": null,
            "grid_template_areas": null,
            "grid_template_columns": null,
            "grid_template_rows": null,
            "height": null,
            "justify_content": null,
            "justify_items": null,
            "left": null,
            "margin": null,
            "max_height": null,
            "max_width": null,
            "min_height": null,
            "min_width": null,
            "object_fit": null,
            "object_position": null,
            "order": null,
            "overflow": null,
            "overflow_x": null,
            "overflow_y": null,
            "padding": null,
            "right": null,
            "top": null,
            "visibility": null,
            "width": null
          }
        },
        "2e449f1b86574d499d0e99bcfccf78a0": {
          "model_module": "@jupyter-widgets/controls",
          "model_name": "ProgressStyleModel",
          "state": {
            "_model_module": "@jupyter-widgets/controls",
            "_model_module_version": "1.5.0",
            "_model_name": "ProgressStyleModel",
            "_view_count": null,
            "_view_module": "@jupyter-widgets/base",
            "_view_module_version": "1.2.0",
            "_view_name": "StyleView",
            "bar_color": null,
            "description_width": "initial"
          }
        },
        "2e6eb16a0fce40a69cc28b661431dc92": {
          "model_module": "@jupyter-widgets/controls",
          "model_name": "HTMLModel",
          "state": {
            "_dom_classes": [],
            "_model_module": "@jupyter-widgets/controls",
            "_model_module_version": "1.5.0",
            "_model_name": "HTMLModel",
            "_view_count": null,
            "_view_module": "@jupyter-widgets/controls",
            "_view_module_version": "1.5.0",
            "_view_name": "HTMLView",
            "description": "",
            "description_tooltip": null,
            "layout": "IPY_MODEL_01b988ed524b43b8be8f079771088e91",
            "placeholder": "​",
            "style": "IPY_MODEL_2ed89cbbc70c4ff4baa7d0c30890ac39",
            "value": " 9920512/? [00:20&lt;00:00, 8399498.39it/s]"
          }
        },
        "2ed89cbbc70c4ff4baa7d0c30890ac39": {
          "model_module": "@jupyter-widgets/controls",
          "model_name": "DescriptionStyleModel",
          "state": {
            "_model_module": "@jupyter-widgets/controls",
            "_model_module_version": "1.5.0",
            "_model_name": "DescriptionStyleModel",
            "_view_count": null,
            "_view_module": "@jupyter-widgets/base",
            "_view_module_version": "1.2.0",
            "_view_name": "StyleView",
            "description_width": ""
          }
        },
        "350e5d5fb5844bcbb0108e68533069ca": {
          "model_module": "@jupyter-widgets/controls",
          "model_name": "FloatProgressModel",
          "state": {
            "_dom_classes": [],
            "_model_module": "@jupyter-widgets/controls",
            "_model_module_version": "1.5.0",
            "_model_name": "FloatProgressModel",
            "_view_count": null,
            "_view_module": "@jupyter-widgets/controls",
            "_view_module_version": "1.5.0",
            "_view_name": "ProgressView",
            "bar_style": "success",
            "description": "",
            "description_tooltip": null,
            "layout": "IPY_MODEL_71a97c2613f24cd690f7b8db508ee11f",
            "max": 1,
            "min": 0,
            "orientation": "horizontal",
            "style": "IPY_MODEL_3be6bc08e5ca4a3cb536841884bc16d6",
            "value": 1
          }
        },
        "39e3d15564cb4b9cb1da0dd0dd189e37": {
          "model_module": "@jupyter-widgets/base",
          "model_name": "LayoutModel",
          "state": {
            "_model_module": "@jupyter-widgets/base",
            "_model_module_version": "1.2.0",
            "_model_name": "LayoutModel",
            "_view_count": null,
            "_view_module": "@jupyter-widgets/base",
            "_view_module_version": "1.2.0",
            "_view_name": "LayoutView",
            "align_content": null,
            "align_items": null,
            "align_self": null,
            "border": null,
            "bottom": null,
            "display": null,
            "flex": null,
            "flex_flow": null,
            "grid_area": null,
            "grid_auto_columns": null,
            "grid_auto_flow": null,
            "grid_auto_rows": null,
            "grid_column": null,
            "grid_gap": null,
            "grid_row": null,
            "grid_template_areas": null,
            "grid_template_columns": null,
            "grid_template_rows": null,
            "height": null,
            "justify_content": null,
            "justify_items": null,
            "left": null,
            "margin": null,
            "max_height": null,
            "max_width": null,
            "min_height": null,
            "min_width": null,
            "object_fit": null,
            "object_position": null,
            "order": null,
            "overflow": null,
            "overflow_x": null,
            "overflow_y": null,
            "padding": null,
            "right": null,
            "top": null,
            "visibility": null,
            "width": null
          }
        },
        "3be6bc08e5ca4a3cb536841884bc16d6": {
          "model_module": "@jupyter-widgets/controls",
          "model_name": "ProgressStyleModel",
          "state": {
            "_model_module": "@jupyter-widgets/controls",
            "_model_module_version": "1.5.0",
            "_model_name": "ProgressStyleModel",
            "_view_count": null,
            "_view_module": "@jupyter-widgets/base",
            "_view_module_version": "1.2.0",
            "_view_name": "StyleView",
            "bar_color": null,
            "description_width": "initial"
          }
        },
        "413e5ed8538c4c5fb26d725ad5c886b5": {
          "model_module": "@jupyter-widgets/base",
          "model_name": "LayoutModel",
          "state": {
            "_model_module": "@jupyter-widgets/base",
            "_model_module_version": "1.2.0",
            "_model_name": "LayoutModel",
            "_view_count": null,
            "_view_module": "@jupyter-widgets/base",
            "_view_module_version": "1.2.0",
            "_view_name": "LayoutView",
            "align_content": null,
            "align_items": null,
            "align_self": null,
            "border": null,
            "bottom": null,
            "display": null,
            "flex": null,
            "flex_flow": null,
            "grid_area": null,
            "grid_auto_columns": null,
            "grid_auto_flow": null,
            "grid_auto_rows": null,
            "grid_column": null,
            "grid_gap": null,
            "grid_row": null,
            "grid_template_areas": null,
            "grid_template_columns": null,
            "grid_template_rows": null,
            "height": null,
            "justify_content": null,
            "justify_items": null,
            "left": null,
            "margin": null,
            "max_height": null,
            "max_width": null,
            "min_height": null,
            "min_width": null,
            "object_fit": null,
            "object_position": null,
            "order": null,
            "overflow": null,
            "overflow_x": null,
            "overflow_y": null,
            "padding": null,
            "right": null,
            "top": null,
            "visibility": null,
            "width": null
          }
        },
        "417a978da0d14cb99e6f130b6b8437e2": {
          "model_module": "@jupyter-widgets/controls",
          "model_name": "FloatProgressModel",
          "state": {
            "_dom_classes": [],
            "_model_module": "@jupyter-widgets/controls",
            "_model_module_version": "1.5.0",
            "_model_name": "FloatProgressModel",
            "_view_count": null,
            "_view_module": "@jupyter-widgets/controls",
            "_view_module_version": "1.5.0",
            "_view_name": "ProgressView",
            "bar_style": "info",
            "description": "",
            "description_tooltip": null,
            "layout": "IPY_MODEL_56a9b4a470bb4099a5832b6fc98a7204",
            "max": 1,
            "min": 0,
            "orientation": "horizontal",
            "style": "IPY_MODEL_2e449f1b86574d499d0e99bcfccf78a0",
            "value": 1
          }
        },
        "4c5ce2ddaca54c33a2e413d119d058c4": {
          "model_module": "@jupyter-widgets/controls",
          "model_name": "HTMLModel",
          "state": {
            "_dom_classes": [],
            "_model_module": "@jupyter-widgets/controls",
            "_model_module_version": "1.5.0",
            "_model_name": "HTMLModel",
            "_view_count": null,
            "_view_module": "@jupyter-widgets/controls",
            "_view_module_version": "1.5.0",
            "_view_name": "HTMLView",
            "description": "",
            "description_tooltip": null,
            "layout": "IPY_MODEL_e95d2b3222f84f61a51167e535c074ba",
            "placeholder": "​",
            "style": "IPY_MODEL_78cf95a4a91e4d8e9a48551872133a45",
            "value": " 0/28881 [00:00&lt;?, ?it/s]"
          }
        },
        "56a9b4a470bb4099a5832b6fc98a7204": {
          "model_module": "@jupyter-widgets/base",
          "model_name": "LayoutModel",
          "state": {
            "_model_module": "@jupyter-widgets/base",
            "_model_module_version": "1.2.0",
            "_model_name": "LayoutModel",
            "_view_count": null,
            "_view_module": "@jupyter-widgets/base",
            "_view_module_version": "1.2.0",
            "_view_name": "LayoutView",
            "align_content": null,
            "align_items": null,
            "align_self": null,
            "border": null,
            "bottom": null,
            "display": null,
            "flex": null,
            "flex_flow": null,
            "grid_area": null,
            "grid_auto_columns": null,
            "grid_auto_flow": null,
            "grid_auto_rows": null,
            "grid_column": null,
            "grid_gap": null,
            "grid_row": null,
            "grid_template_areas": null,
            "grid_template_columns": null,
            "grid_template_rows": null,
            "height": null,
            "justify_content": null,
            "justify_items": null,
            "left": null,
            "margin": null,
            "max_height": null,
            "max_width": null,
            "min_height": null,
            "min_width": null,
            "object_fit": null,
            "object_position": null,
            "order": null,
            "overflow": null,
            "overflow_x": null,
            "overflow_y": null,
            "padding": null,
            "right": null,
            "top": null,
            "visibility": null,
            "width": null
          }
        },
        "71a97c2613f24cd690f7b8db508ee11f": {
          "model_module": "@jupyter-widgets/base",
          "model_name": "LayoutModel",
          "state": {
            "_model_module": "@jupyter-widgets/base",
            "_model_module_version": "1.2.0",
            "_model_name": "LayoutModel",
            "_view_count": null,
            "_view_module": "@jupyter-widgets/base",
            "_view_module_version": "1.2.0",
            "_view_name": "LayoutView",
            "align_content": null,
            "align_items": null,
            "align_self": null,
            "border": null,
            "bottom": null,
            "display": null,
            "flex": null,
            "flex_flow": null,
            "grid_area": null,
            "grid_auto_columns": null,
            "grid_auto_flow": null,
            "grid_auto_rows": null,
            "grid_column": null,
            "grid_gap": null,
            "grid_row": null,
            "grid_template_areas": null,
            "grid_template_columns": null,
            "grid_template_rows": null,
            "height": null,
            "justify_content": null,
            "justify_items": null,
            "left": null,
            "margin": null,
            "max_height": null,
            "max_width": null,
            "min_height": null,
            "min_width": null,
            "object_fit": null,
            "object_position": null,
            "order": null,
            "overflow": null,
            "overflow_x": null,
            "overflow_y": null,
            "padding": null,
            "right": null,
            "top": null,
            "visibility": null,
            "width": null
          }
        },
        "78cf95a4a91e4d8e9a48551872133a45": {
          "model_module": "@jupyter-widgets/controls",
          "model_name": "DescriptionStyleModel",
          "state": {
            "_model_module": "@jupyter-widgets/controls",
            "_model_module_version": "1.5.0",
            "_model_name": "DescriptionStyleModel",
            "_view_count": null,
            "_view_module": "@jupyter-widgets/base",
            "_view_module_version": "1.2.0",
            "_view_name": "StyleView",
            "description_width": ""
          }
        },
        "79a2507a6c28418fa1eb77d177b752cd": {
          "model_module": "@jupyter-widgets/controls",
          "model_name": "FloatProgressModel",
          "state": {
            "_dom_classes": [],
            "_model_module": "@jupyter-widgets/controls",
            "_model_module_version": "1.5.0",
            "_model_name": "FloatProgressModel",
            "_view_count": null,
            "_view_module": "@jupyter-widgets/controls",
            "_view_module_version": "1.5.0",
            "_view_name": "ProgressView",
            "bar_style": "success",
            "description": "",
            "description_tooltip": null,
            "layout": "IPY_MODEL_bc3ac65921e94e248e5062d1efc6f56e",
            "max": 1,
            "min": 0,
            "orientation": "horizontal",
            "style": "IPY_MODEL_bd9bcf261d304b0d965a5e22dd7822af",
            "value": 1
          }
        },
        "7b71f09ff48945bfbba878dd1f4ea16c": {
          "model_module": "@jupyter-widgets/base",
          "model_name": "LayoutModel",
          "state": {
            "_model_module": "@jupyter-widgets/base",
            "_model_module_version": "1.2.0",
            "_model_name": "LayoutModel",
            "_view_count": null,
            "_view_module": "@jupyter-widgets/base",
            "_view_module_version": "1.2.0",
            "_view_name": "LayoutView",
            "align_content": null,
            "align_items": null,
            "align_self": null,
            "border": null,
            "bottom": null,
            "display": null,
            "flex": null,
            "flex_flow": null,
            "grid_area": null,
            "grid_auto_columns": null,
            "grid_auto_flow": null,
            "grid_auto_rows": null,
            "grid_column": null,
            "grid_gap": null,
            "grid_row": null,
            "grid_template_areas": null,
            "grid_template_columns": null,
            "grid_template_rows": null,
            "height": null,
            "justify_content": null,
            "justify_items": null,
            "left": null,
            "margin": null,
            "max_height": null,
            "max_width": null,
            "min_height": null,
            "min_width": null,
            "object_fit": null,
            "object_position": null,
            "order": null,
            "overflow": null,
            "overflow_x": null,
            "overflow_y": null,
            "padding": null,
            "right": null,
            "top": null,
            "visibility": null,
            "width": null
          }
        },
        "7f9aed9fb05a4461a13e2217dcf9b663": {
          "model_module": "@jupyter-widgets/controls",
          "model_name": "DescriptionStyleModel",
          "state": {
            "_model_module": "@jupyter-widgets/controls",
            "_model_module_version": "1.5.0",
            "_model_name": "DescriptionStyleModel",
            "_view_count": null,
            "_view_module": "@jupyter-widgets/base",
            "_view_module_version": "1.2.0",
            "_view_name": "StyleView",
            "description_width": ""
          }
        },
        "803843e6b31b442ab7ec1535dff40811": {
          "model_module": "@jupyter-widgets/controls",
          "model_name": "HTMLModel",
          "state": {
            "_dom_classes": [],
            "_model_module": "@jupyter-widgets/controls",
            "_model_module_version": "1.5.0",
            "_model_name": "HTMLModel",
            "_view_count": null,
            "_view_module": "@jupyter-widgets/controls",
            "_view_module_version": "1.5.0",
            "_view_name": "HTMLView",
            "description": "",
            "description_tooltip": null,
            "layout": "IPY_MODEL_39e3d15564cb4b9cb1da0dd0dd189e37",
            "placeholder": "​",
            "style": "IPY_MODEL_d7feb8e169d640fca9d98f1ab0f51325",
            "value": " 1654784/? [00:00&lt;00:00, 2400409.74it/s]"
          }
        },
        "958dbab978cc4262810e934bfe2e34e5": {
          "model_module": "@jupyter-widgets/controls",
          "model_name": "HBoxModel",
          "state": {
            "_dom_classes": [],
            "_model_module": "@jupyter-widgets/controls",
            "_model_module_version": "1.5.0",
            "_model_name": "HBoxModel",
            "_view_count": null,
            "_view_module": "@jupyter-widgets/controls",
            "_view_module_version": "1.5.0",
            "_view_name": "HBoxView",
            "box_style": "",
            "children": [
              "IPY_MODEL_350e5d5fb5844bcbb0108e68533069ca",
              "IPY_MODEL_daa313fd858c4b50a46811bfb905ea5c"
            ],
            "layout": "IPY_MODEL_a9e2cf9b6e924c9fb327a186eae607a8"
          }
        },
        "a9e2cf9b6e924c9fb327a186eae607a8": {
          "model_module": "@jupyter-widgets/base",
          "model_name": "LayoutModel",
          "state": {
            "_model_module": "@jupyter-widgets/base",
            "_model_module_version": "1.2.0",
            "_model_name": "LayoutModel",
            "_view_count": null,
            "_view_module": "@jupyter-widgets/base",
            "_view_module_version": "1.2.0",
            "_view_name": "LayoutView",
            "align_content": null,
            "align_items": null,
            "align_self": null,
            "border": null,
            "bottom": null,
            "display": null,
            "flex": null,
            "flex_flow": null,
            "grid_area": null,
            "grid_auto_columns": null,
            "grid_auto_flow": null,
            "grid_auto_rows": null,
            "grid_column": null,
            "grid_gap": null,
            "grid_row": null,
            "grid_template_areas": null,
            "grid_template_columns": null,
            "grid_template_rows": null,
            "height": null,
            "justify_content": null,
            "justify_items": null,
            "left": null,
            "margin": null,
            "max_height": null,
            "max_width": null,
            "min_height": null,
            "min_width": null,
            "object_fit": null,
            "object_position": null,
            "order": null,
            "overflow": null,
            "overflow_x": null,
            "overflow_y": null,
            "padding": null,
            "right": null,
            "top": null,
            "visibility": null,
            "width": null
          }
        },
        "b7a9e973b97748ef89d588f74e708ffa": {
          "model_module": "@jupyter-widgets/controls",
          "model_name": "FloatProgressModel",
          "state": {
            "_dom_classes": [],
            "_model_module": "@jupyter-widgets/controls",
            "_model_module_version": "1.5.0",
            "_model_name": "FloatProgressModel",
            "_view_count": null,
            "_view_module": "@jupyter-widgets/controls",
            "_view_module_version": "1.5.0",
            "_view_name": "ProgressView",
            "bar_style": "info",
            "description": "  0%",
            "description_tooltip": null,
            "layout": "IPY_MODEL_c9e1b800fdb749eca816b599de11e589",
            "max": 1,
            "min": 0,
            "orientation": "horizontal",
            "style": "IPY_MODEL_1d912b038793460bb6a8aff5223e232e",
            "value": 0
          }
        },
        "bb90d443a0cc4f44b01bdd33f01a00b2": {
          "model_module": "@jupyter-widgets/controls",
          "model_name": "HBoxModel",
          "state": {
            "_dom_classes": [],
            "_model_module": "@jupyter-widgets/controls",
            "_model_module_version": "1.5.0",
            "_model_name": "HBoxModel",
            "_view_count": null,
            "_view_module": "@jupyter-widgets/controls",
            "_view_module_version": "1.5.0",
            "_view_name": "HBoxView",
            "box_style": "",
            "children": [
              "IPY_MODEL_417a978da0d14cb99e6f130b6b8437e2",
              "IPY_MODEL_2e6eb16a0fce40a69cc28b661431dc92"
            ],
            "layout": "IPY_MODEL_29cff0d25e01421c8aa786c0e80fb8f3"
          }
        },
        "bc3ac65921e94e248e5062d1efc6f56e": {
          "model_module": "@jupyter-widgets/base",
          "model_name": "LayoutModel",
          "state": {
            "_model_module": "@jupyter-widgets/base",
            "_model_module_version": "1.2.0",
            "_model_name": "LayoutModel",
            "_view_count": null,
            "_view_module": "@jupyter-widgets/base",
            "_view_module_version": "1.2.0",
            "_view_name": "LayoutView",
            "align_content": null,
            "align_items": null,
            "align_self": null,
            "border": null,
            "bottom": null,
            "display": null,
            "flex": null,
            "flex_flow": null,
            "grid_area": null,
            "grid_auto_columns": null,
            "grid_auto_flow": null,
            "grid_auto_rows": null,
            "grid_column": null,
            "grid_gap": null,
            "grid_row": null,
            "grid_template_areas": null,
            "grid_template_columns": null,
            "grid_template_rows": null,
            "height": null,
            "justify_content": null,
            "justify_items": null,
            "left": null,
            "margin": null,
            "max_height": null,
            "max_width": null,
            "min_height": null,
            "min_width": null,
            "object_fit": null,
            "object_position": null,
            "order": null,
            "overflow": null,
            "overflow_x": null,
            "overflow_y": null,
            "padding": null,
            "right": null,
            "top": null,
            "visibility": null,
            "width": null
          }
        },
        "bd9bcf261d304b0d965a5e22dd7822af": {
          "model_module": "@jupyter-widgets/controls",
          "model_name": "ProgressStyleModel",
          "state": {
            "_model_module": "@jupyter-widgets/controls",
            "_model_module_version": "1.5.0",
            "_model_name": "ProgressStyleModel",
            "_view_count": null,
            "_view_module": "@jupyter-widgets/base",
            "_view_module_version": "1.2.0",
            "_view_name": "StyleView",
            "bar_color": null,
            "description_width": "initial"
          }
        },
        "bfd1d3d866444ba5b39670295d18beb4": {
          "model_module": "@jupyter-widgets/controls",
          "model_name": "HBoxModel",
          "state": {
            "_dom_classes": [],
            "_model_module": "@jupyter-widgets/controls",
            "_model_module_version": "1.5.0",
            "_model_name": "HBoxModel",
            "_view_count": null,
            "_view_module": "@jupyter-widgets/controls",
            "_view_module_version": "1.5.0",
            "_view_name": "HBoxView",
            "box_style": "",
            "children": [
              "IPY_MODEL_79a2507a6c28418fa1eb77d177b752cd",
              "IPY_MODEL_803843e6b31b442ab7ec1535dff40811"
            ],
            "layout": "IPY_MODEL_413e5ed8538c4c5fb26d725ad5c886b5"
          }
        },
        "c9e1b800fdb749eca816b599de11e589": {
          "model_module": "@jupyter-widgets/base",
          "model_name": "LayoutModel",
          "state": {
            "_model_module": "@jupyter-widgets/base",
            "_model_module_version": "1.2.0",
            "_model_name": "LayoutModel",
            "_view_count": null,
            "_view_module": "@jupyter-widgets/base",
            "_view_module_version": "1.2.0",
            "_view_name": "LayoutView",
            "align_content": null,
            "align_items": null,
            "align_self": null,
            "border": null,
            "bottom": null,
            "display": null,
            "flex": null,
            "flex_flow": null,
            "grid_area": null,
            "grid_auto_columns": null,
            "grid_auto_flow": null,
            "grid_auto_rows": null,
            "grid_column": null,
            "grid_gap": null,
            "grid_row": null,
            "grid_template_areas": null,
            "grid_template_columns": null,
            "grid_template_rows": null,
            "height": null,
            "justify_content": null,
            "justify_items": null,
            "left": null,
            "margin": null,
            "max_height": null,
            "max_width": null,
            "min_height": null,
            "min_width": null,
            "object_fit": null,
            "object_position": null,
            "order": null,
            "overflow": null,
            "overflow_x": null,
            "overflow_y": null,
            "padding": null,
            "right": null,
            "top": null,
            "visibility": null,
            "width": null
          }
        },
        "d7feb8e169d640fca9d98f1ab0f51325": {
          "model_module": "@jupyter-widgets/controls",
          "model_name": "DescriptionStyleModel",
          "state": {
            "_model_module": "@jupyter-widgets/controls",
            "_model_module_version": "1.5.0",
            "_model_name": "DescriptionStyleModel",
            "_view_count": null,
            "_view_module": "@jupyter-widgets/base",
            "_view_module_version": "1.2.0",
            "_view_name": "StyleView",
            "description_width": ""
          }
        },
        "daa313fd858c4b50a46811bfb905ea5c": {
          "model_module": "@jupyter-widgets/controls",
          "model_name": "HTMLModel",
          "state": {
            "_dom_classes": [],
            "_model_module": "@jupyter-widgets/controls",
            "_model_module_version": "1.5.0",
            "_model_name": "HTMLModel",
            "_view_count": null,
            "_view_module": "@jupyter-widgets/controls",
            "_view_module_version": "1.5.0",
            "_view_name": "HTMLView",
            "description": "",
            "description_tooltip": null,
            "layout": "IPY_MODEL_1cd4cda568864bbb8b3f17d1a4119f61",
            "placeholder": "​",
            "style": "IPY_MODEL_7f9aed9fb05a4461a13e2217dcf9b663",
            "value": " 8192/? [00:00&lt;00:00, 22514.60it/s]"
          }
        },
        "e95d2b3222f84f61a51167e535c074ba": {
          "model_module": "@jupyter-widgets/base",
          "model_name": "LayoutModel",
          "state": {
            "_model_module": "@jupyter-widgets/base",
            "_model_module_version": "1.2.0",
            "_model_name": "LayoutModel",
            "_view_count": null,
            "_view_module": "@jupyter-widgets/base",
            "_view_module_version": "1.2.0",
            "_view_name": "LayoutView",
            "align_content": null,
            "align_items": null,
            "align_self": null,
            "border": null,
            "bottom": null,
            "display": null,
            "flex": null,
            "flex_flow": null,
            "grid_area": null,
            "grid_auto_columns": null,
            "grid_auto_flow": null,
            "grid_auto_rows": null,
            "grid_column": null,
            "grid_gap": null,
            "grid_row": null,
            "grid_template_areas": null,
            "grid_template_columns": null,
            "grid_template_rows": null,
            "height": null,
            "justify_content": null,
            "justify_items": null,
            "left": null,
            "margin": null,
            "max_height": null,
            "max_width": null,
            "min_height": null,
            "min_width": null,
            "object_fit": null,
            "object_position": null,
            "order": null,
            "overflow": null,
            "overflow_x": null,
            "overflow_y": null,
            "padding": null,
            "right": null,
            "top": null,
            "visibility": null,
            "width": null
          }
        },
        "f4285f8d1c6b490fb8a9412e8cf1090d": {
          "model_module": "@jupyter-widgets/controls",
          "model_name": "HBoxModel",
          "state": {
            "_dom_classes": [],
            "_model_module": "@jupyter-widgets/controls",
            "_model_module_version": "1.5.0",
            "_model_name": "HBoxModel",
            "_view_count": null,
            "_view_module": "@jupyter-widgets/controls",
            "_view_module_version": "1.5.0",
            "_view_name": "HBoxView",
            "box_style": "",
            "children": [
              "IPY_MODEL_b7a9e973b97748ef89d588f74e708ffa",
              "IPY_MODEL_4c5ce2ddaca54c33a2e413d119d058c4"
            ],
            "layout": "IPY_MODEL_7b71f09ff48945bfbba878dd1f4ea16c"
          }
        }
      }
    }
  },
  "nbformat": 4,
  "nbformat_minor": 0
}
