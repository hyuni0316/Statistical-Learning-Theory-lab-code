{
 "cells": [
  {
   "cell_type": "code",
   "execution_count": 10,
   "source": [
    "import torch\r\n",
    "import numpy as np\r\n"
   ],
   "outputs": [],
   "metadata": {}
  },
  {
   "cell_type": "code",
   "execution_count": 24,
   "source": [
    " # ! Tensor initialization \r\n",
    " # using a list\r\n",
    " # using a NumPy array \r\n",
    " # setting the size (shape) of the tensor \r\n",
    "\r\n",
    " # ? 1. using a list\r\n",
    "lst = [0, 1, 2, 3, 4, 5]\r\n",
    "a = torch.tensor(lst) \r\n",
    "print(a.dtype)\r\n",
    "\r\n",
    "a2 = torch.tensor([0., 1., 2, 3, 4, 5]) \r\n",
    "print(a2.dtype)\r\n",
    "print(a[2:])\r\n",
    "\r\n",
    "# tensor.FloatTensor, .LongTensor, etc.\r\n",
    "b = torch.FloatTensor(lst)\r\n",
    "\r\n",
    "f_lst = torch.tensor(lst, dtype=torch.float)\r\n",
    "f_lst.dtype\r\n",
    "\r\n",
    "b_lst = torch.tensor(lst, dtype=torch.bool)\r\n",
    "b_lst.dtype\r\n",
    "print(b_lst)\r\n",
    "\r\n",
    " # ? 2. nympy\r\n",
    "lst_np = np.array(lst)\r\n",
    "lst_np\r\n",
    "lst_tensor = torch.from_numpy(lst_np)\r\n",
    "lst_tensor.type()\r\n",
    "tensor2np = lst_tensor.numpy()\r\n",
    "tensor2np\r\n",
    "\r\n",
    " # ? 3. setting a shape \r\n",
    "# 2x3x4 tensor\r\n",
    "# torch.zeros(), .ones(), .rand(), .randn()\r\n",
    "a_zeros = torch.ones(2, 3, 4)\r\n",
    "print(a_zeros)\r\n",
    "a_rands = torch.rand(2, 3, 3)\r\n",
    "print(a_rands)\r\n",
    "\r\n",
    "# torch.arange(end) 0>end-1, (start, end, step)\r\n",
    "t_1d = torch.arange(24) # 0~23 (24)  == (0, 24, 1)\r\n",
    "print(t_1d)"
   ],
   "outputs": [
    {
     "output_type": "stream",
     "name": "stdout",
     "text": [
      "torch.int64\n",
      "torch.float32\n",
      "tensor([2, 3, 4, 5])\n",
      "tensor([False,  True,  True,  True,  True,  True])\n",
      "tensor([[[1., 1., 1., 1.],\n",
      "         [1., 1., 1., 1.],\n",
      "         [1., 1., 1., 1.]],\n",
      "\n",
      "        [[1., 1., 1., 1.],\n",
      "         [1., 1., 1., 1.],\n",
      "         [1., 1., 1., 1.]]])\n",
      "tensor([[[0.4130, 0.0525, 0.4090],\n",
      "         [0.8062, 0.9995, 0.9073],\n",
      "         [0.1000, 0.9766, 0.5801]],\n",
      "\n",
      "        [[0.7878, 0.7791, 0.4813],\n",
      "         [0.3910, 0.8403, 0.5396],\n",
      "         [0.0829, 0.0032, 0.4953]]])\n",
      "tensor([ 0,  1,  2,  3,  4,  5,  6,  7,  8,  9, 10, 11, 12, 13, 14, 15, 16, 17,\n",
      "        18, 19, 20, 21, 22, 23])\n"
     ]
    }
   ],
   "metadata": {}
  },
  {
   "cell_type": "code",
   "execution_count": 54,
   "source": [
    " # ! Tensor properties including shape, data type, device  \r\n",
    " # ? 1. shape\r\n",
    "\r\n",
    "print(a.shape)\r\n",
    "print(a.size())\r\n",
    "print(a.size(0))\r\n",
    "\r\n",
    "# view(), reshape()\r\n",
    "t_2d = t_1d.view(3, -1)\r\n",
    "t_2d\r\n",
    "print(t_2d.size(1))\r\n",
    "\r\n",
    "t_2d_reshaped = torch.reshape(t_2d, (-1, 3))\r\n",
    "t_2d_reshaped\r\n",
    "\r\n",
    "# ? 2. data type : using the dtype\r\n",
    "# https://pytorch.org/docs/stable/tensors.html\r\n",
    "print(t_1d.dtype)\r\n",
    "\r\n",
    "# ? 3. device (gpu, cpu) using a method to(device)\r\n",
    "print(t_1d.device)\r\n",
    "if torch.cuda.is_available():\r\n",
    "    t_1d_gpu = t_1d.to('cuda')\r\n",
    "\r\n",
    "print(t_1d_gpu.device)"
   ],
   "outputs": [
    {
     "output_type": "stream",
     "name": "stdout",
     "text": [
      "torch.Size([6])\n",
      "torch.Size([6])\n",
      "6\n",
      "8\n",
      "torch.int64\n",
      "cpu\n",
      "cuda:0\n"
     ]
    }
   ],
   "metadata": {}
  },
  {
   "cell_type": "code",
   "execution_count": 74,
   "source": [
    " # ! Tensor Arithematic operation & Visualization \r\n",
    "t1 = torch.tensor([1, 2])\r\n",
    "t2 = torch.tensor([3, 4])\r\n",
    "print(t1+t2)\r\n",
    "\r\n",
    "dot_op = torch.dot(t1, t2)\r\n",
    "dot_op\r\n",
    "\r\n",
    "t1 = torch.randn(3, 2)\r\n",
    "t2 = torch.randn(2, 3)\r\n",
    "torch.matmul(t1, t2).size()\r\n",
    "\r\n",
    "import matplotlib.pyplot as plt\r\n",
    "x = torch.linspace(5, 10, 100) # (start, end, steps)\r\n",
    "# print(x)\r\n",
    "y = torch.exp(x)\r\n",
    "plt.plot(x, y, '-x')"
   ],
   "outputs": [
    {
     "output_type": "stream",
     "name": "stdout",
     "text": [
      "tensor([4, 6])\n"
     ]
    },
    {
     "output_type": "execute_result",
     "data": {
      "text/plain": [
       "[<matplotlib.lines.Line2D at 0x1b9e8b5a6a0>]"
      ]
     },
     "metadata": {},
     "execution_count": 74
    },
    {
     "output_type": "display_data",
     "data": {
      "image/png": "[encoded data removed]",
      "text/plain": [
       "<Figure size 432x288 with 1 Axes>"
      ]
     },
     "metadata": {
      "needs_background": "light"
     }
    }
   ],
   "metadata": {}
  },
  {
   "cell_type": "code",
   "execution_count": 76,
   "source": [
    "def f(t):\r\n",
    "  return np.exp(-t)*np.cos(2*np.pi*t)\r\n",
    "\r\n",
    "t1 = np.arange(0.0, 5.0, 0.1)\r\n",
    "t2 = np.arange(0.0, 5.0, 0.02)\r\n",
    "t1_ = torch.from_numpy(t1)\r\n",
    "t2_ = torch.from_numpy(t2)\r\n",
    "\r\n",
    "plt.figure()\r\n",
    "plt.subplot(211)\r\n",
    "plt.plot(t1_, f(t1_), 'bo', t2_, f(t2_), 'k')\r\n",
    "\r\n",
    "plt.figure()\r\n",
    "plt.subplot(212)\r\n",
    "plt.plot(t2_, np.cos(2*np.pi*t2), 'r--')"
   ],
   "outputs": [
    {
     "output_type": "execute_result",
     "data": {
      "text/plain": [
       "[<matplotlib.lines.Line2D at 0x1b9e8c798e0>]"
      ]
     },
     "metadata": {},
     "execution_count": 76
    },
    {
     "output_type": "display_data",
     "data": {
      "image/png": "[encoded data removed]",
      "text/plain": [
       "<Figure size 432x288 with 1 Axes>"
      ]
     },
     "metadata": {
      "needs_background": "light"
     }
    },
    {
     "output_type": "display_data",
     "data": {
      "image/png": "[encoded data removed]",
      "text/plain": [
       "<Figure size 432x288 with 1 Axes>"
      ]
     },
     "metadata": {
      "needs_background": "light"
     }
    }
   ],
   "metadata": {}
  },
  {
   "cell_type": "code",
   "execution_count": 81,
   "source": [
    " # ! Gradient or AutoGrad\r\n",
    " # f(x) = 2x^2 + 3x + 1\r\n",
    " # f' = df/dx = 4x + 3\r\n",
    " # f'(5) = 23\r\n",
    " # by calling backward() to compute its gradient, and store it in the grad attribute\r\n",
    "\r\n",
    "x = torch.tensor(5.0, requires_grad=True)\r\n",
    "f = 2*x**2 + 3*x + 1\r\n",
    "f.backward()\r\n",
    "x.grad\r\n",
    "x.type()\r\n",
    "\r\n",
    " # f(x, y) = 2x^2 + 3y^2 + 1\r\n",
    " # f' wrt x = df/dx = 4x  > @7 = 28\r\n",
    " # f' wrt y = df/dy = 6y  > @8 = 48\r\n",
    "x = torch.tensor(7.0, requires_grad=True)\r\n",
    "y = torch.tensor(8.0, requires_grad=True)\r\n",
    "\r\n",
    "f = 2*x**2 + 3*y**2 + 1\r\n",
    "f.backward()\r\n",
    "x.grad\r\n",
    "y.grad\r\n",
    "\r\n"
   ],
   "outputs": [
    {
     "output_type": "execute_result",
     "data": {
      "text/plain": [
       "tensor(48.)"
      ]
     },
     "metadata": {},
     "execution_count": 81
    }
   ],
   "metadata": {}
  }
 ],
 "metadata": {
  "orig_nbformat": 4,
  "language_info": {
   "name": "python",
   "version": "3.8.8",
   "mimetype": "text/x-python",
   "codemirror_mode": {
    "name": "ipython",
    "version": 3
   },
   "pygments_lexer": "ipython3",
   "nbconvert_exporter": "python",
   "file_extension": ".py"
  },
  "kernelspec": {
   "name": "python3",
   "display_name": "Python 3.8.8 64-bit ('pt181': conda)"
  },
  "interpreter": {
   "hash": "74f06212d79966a7860e13d1934be6673155ff80de37f80d55a8991f2a864dc8"
  }
 },
 "nbformat": 4,
 "nbformat_minor": 2
}