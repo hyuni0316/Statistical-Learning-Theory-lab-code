{
 "cells": [
  {
   "cell_type": "code",
   "execution_count": 2,
   "source": [
    "# linear regression model \r\n",
    "import torch\r\n",
    "import torch.nn as nn\r\n",
    "import numpy as np\r\n",
    "import matplotlib.pyplot as plt"
   ],
   "outputs": [],
   "metadata": {}
  },
  {
   "cell_type": "code",
   "execution_count": 33,
   "source": [
    "# dummy data point \r\n",
    "X = torch.randn(100,1)*10 + 10  # X for model training\r\n",
    "y = X + torch.randn(100,1)*5   # y label\r\n",
    "\r\n",
    "plt.scatter(X, y, alpha=0.5)"
   ],
   "outputs": [
    {
     "output_type": "execute_result",
     "data": {
      "text/plain": [
       "<matplotlib.collections.PathCollection at 0x20ccdc01370>"
      ]
     },
     "metadata": {},
     "execution_count": 33
    },
    {
     "output_type": "display_data",
     "data": {
      "image/png": "[encoded data removed]",
      "text/plain": [
       "<Figure size 432x288 with 1 Axes>"
      ]
     },
     "metadata": {
      "needs_background": "light"
     }
    }
   ],
   "metadata": {}
  },
  {
   "cell_type": "code",
   "execution_count": 35,
   "source": [
    "# linear model class definition\r\n",
    "class LR_Model(nn.Module): \r\n",
    "    \r\n",
    "    def __init__(self, inputDim, outputDim): \r\n",
    "        super(LR_Model, self).__init__()\r\n",
    "        self.linear = nn.Linear(inputDim, outputDim)\r\n",
    "    \r\n",
    "    # y = wX + b    \r\n",
    "    def forward(self, x):\r\n",
    "        y_pred = self.linear(x)\r\n",
    "        return y_pred"
   ],
   "outputs": [],
   "metadata": {}
  },
  {
   "cell_type": "code",
   "execution_count": 62,
   "source": [
    "torch.manual_seed(1)\r\n",
    "model = LR_Model(1, 1)\r\n",
    "list(model.parameters())"
   ],
   "outputs": [
    {
     "output_type": "execute_result",
     "data": {
      "text/plain": [
       "[Parameter containing:\n",
       " tensor([[0.5153]], requires_grad=True),\n",
       " Parameter containing:\n",
       " tensor([-0.4414], requires_grad=True)]"
      ]
     },
     "metadata": {},
     "execution_count": 62
    }
   ],
   "metadata": {}
  },
  {
   "cell_type": "code",
   "execution_count": 49,
   "source": [
    "# preliminary test \r\n",
    "# x = torch.tensor([[1.0], [1.5], [3.5]])\r\n",
    "# model.forward(x)"
   ],
   "outputs": [
    {
     "output_type": "execute_result",
     "data": {
      "text/plain": [
       "tensor([[0.0739],\n",
       "        [0.3315],\n",
       "        [1.3620]], grad_fn=<AddmmBackward>)"
      ]
     },
     "metadata": {},
     "execution_count": 49
    }
   ],
   "metadata": {}
  },
  {
   "cell_type": "code",
   "execution_count": 63,
   "source": [
    "# function to get w, b\r\n",
    "[w, b] = model.parameters()\r\n",
    "\r\n",
    "def get_params(): \r\n",
    "    return (w[0][0].item(), b[0].item())"
   ],
   "outputs": [],
   "metadata": {}
  },
  {
   "cell_type": "markdown",
   "source": [
    "# gradient descent"
   ],
   "metadata": {}
  },
  {
   "cell_type": "code",
   "execution_count": 64,
   "source": [
    "learningRate = 0.001\r\n",
    "epochs = 100 \r\n",
    "\r\n",
    "# loss function (built-in)\r\n",
    "criterion = nn.MSELoss\r\n",
    "optimizer = torch.optim.SGD(model.parameters(), lr=learningRate)"
   ],
   "outputs": [],
   "metadata": {}
  },
  {
   "cell_type": "code",
   "execution_count": 65,
   "source": [
    "#training \r\n",
    "losses = [] \r\n",
    "\r\n",
    "for epoch in range(epochs):\r\n",
    "    y_pred = model.forward(X)\r\n",
    "    loss = criterion()(y_pred, y)\r\n",
    "    print('epoch {}, loss {}'.format(epoch, loss.item()))\r\n",
    "    \r\n",
    "    losses.append(loss)\r\n",
    "    optimizer.zero_grad()  # set the gradient to zero\r\n",
    "    loss.backward()         # compute the gradients wrt parameters\r\n",
    "    optimizer.step()        # update parameters uing gradeint"
   ],
   "outputs": [
    {
     "output_type": "stream",
     "name": "stdout",
     "text": [
      "epoch 0, loss 72.27426147460938\n",
      "epoch 1, loss 44.343379974365234\n",
      "epoch 2, loss 32.96444320678711\n",
      "epoch 3, loss 28.328710556030273\n",
      "epoch 4, loss 26.44013214111328\n",
      "epoch 5, loss 25.670726776123047\n",
      "epoch 6, loss 25.357275009155273\n",
      "epoch 7, loss 25.229572296142578\n",
      "epoch 8, loss 25.17754554748535\n",
      "epoch 9, loss 25.156349182128906\n",
      "epoch 10, loss 25.147714614868164\n",
      "epoch 11, loss 25.14419174194336\n",
      "epoch 12, loss 25.142759323120117\n",
      "epoch 13, loss 25.142169952392578\n",
      "epoch 14, loss 25.14193344116211\n",
      "epoch 15, loss 25.141830444335938\n",
      "epoch 16, loss 25.14179039001465\n",
      "epoch 17, loss 25.141769409179688\n",
      "epoch 18, loss 25.141759872436523\n",
      "epoch 19, loss 25.141756057739258\n",
      "epoch 20, loss 25.141752243041992\n",
      "epoch 21, loss 25.141748428344727\n",
      "epoch 22, loss 25.141748428344727\n",
      "epoch 23, loss 25.141742706298828\n",
      "epoch 24, loss 25.141742706298828\n",
      "epoch 25, loss 25.141738891601562\n",
      "epoch 26, loss 25.141738891601562\n",
      "epoch 27, loss 25.141733169555664\n",
      "epoch 28, loss 25.141733169555664\n",
      "epoch 29, loss 25.1417293548584\n",
      "epoch 30, loss 25.1417293548584\n",
      "epoch 31, loss 25.1417236328125\n",
      "epoch 32, loss 25.1417236328125\n",
      "epoch 33, loss 25.1417179107666\n",
      "epoch 34, loss 25.1417179107666\n",
      "epoch 35, loss 25.14171600341797\n",
      "epoch 36, loss 25.141712188720703\n",
      "epoch 37, loss 25.141708374023438\n",
      "epoch 38, loss 25.141708374023438\n",
      "epoch 39, loss 25.141704559326172\n",
      "epoch 40, loss 25.141704559326172\n",
      "epoch 41, loss 25.141698837280273\n",
      "epoch 42, loss 25.14169692993164\n",
      "epoch 43, loss 25.14169692993164\n",
      "epoch 44, loss 25.141695022583008\n",
      "epoch 45, loss 25.141687393188477\n",
      "epoch 46, loss 25.141687393188477\n",
      "epoch 47, loss 25.141685485839844\n",
      "epoch 48, loss 25.141685485839844\n",
      "epoch 49, loss 25.141681671142578\n",
      "epoch 50, loss 25.141679763793945\n",
      "epoch 51, loss 25.141679763793945\n",
      "epoch 52, loss 25.141674041748047\n",
      "epoch 53, loss 25.14167022705078\n",
      "epoch 54, loss 25.141672134399414\n",
      "epoch 55, loss 25.14166831970215\n",
      "epoch 56, loss 25.141664505004883\n",
      "epoch 57, loss 25.141660690307617\n",
      "epoch 58, loss 25.141660690307617\n",
      "epoch 59, loss 25.14165687561035\n",
      "epoch 60, loss 25.14165496826172\n",
      "epoch 61, loss 25.141653060913086\n",
      "epoch 62, loss 25.141653060913086\n",
      "epoch 63, loss 25.141651153564453\n",
      "epoch 64, loss 25.141647338867188\n",
      "epoch 65, loss 25.141643524169922\n",
      "epoch 66, loss 25.141643524169922\n",
      "epoch 67, loss 25.141637802124023\n",
      "epoch 68, loss 25.14163589477539\n",
      "epoch 69, loss 25.14163589477539\n",
      "epoch 70, loss 25.141633987426758\n",
      "epoch 71, loss 25.141630172729492\n",
      "epoch 72, loss 25.141626358032227\n",
      "epoch 73, loss 25.141626358032227\n",
      "epoch 74, loss 25.141626358032227\n",
      "epoch 75, loss 25.141620635986328\n",
      "epoch 76, loss 25.141620635986328\n",
      "epoch 77, loss 25.141616821289062\n",
      "epoch 78, loss 25.141616821289062\n",
      "epoch 79, loss 25.141611099243164\n",
      "epoch 80, loss 25.14160919189453\n",
      "epoch 81, loss 25.14160919189453\n",
      "epoch 82, loss 25.1416072845459\n",
      "epoch 83, loss 25.1416015625\n",
      "epoch 84, loss 25.1416015625\n",
      "epoch 85, loss 25.1415958404541\n",
      "epoch 86, loss 25.1415958404541\n",
      "epoch 87, loss 25.14159393310547\n",
      "epoch 88, loss 25.141592025756836\n",
      "epoch 89, loss 25.141592025756836\n",
      "epoch 90, loss 25.141590118408203\n",
      "epoch 91, loss 25.141584396362305\n",
      "epoch 92, loss 25.141584396362305\n",
      "epoch 93, loss 25.141582489013672\n",
      "epoch 94, loss 25.141582489013672\n",
      "epoch 95, loss 25.14157485961914\n",
      "epoch 96, loss 25.14157485961914\n",
      "epoch 97, loss 25.141572952270508\n",
      "epoch 98, loss 25.141572952270508\n",
      "epoch 99, loss 25.14156723022461\n"
     ]
    }
   ],
   "metadata": {}
  },
  {
   "cell_type": "code",
   "execution_count": 66,
   "source": [
    "plt.plot(range(epochs), losses)"
   ],
   "outputs": [
    {
     "output_type": "execute_result",
     "data": {
      "text/plain": [
       "[<matplotlib.lines.Line2D at 0x20ccde0c190>]"
      ]
     },
     "metadata": {},
     "execution_count": 66
    },
    {
     "output_type": "display_data",
     "data": {
      "image/png": "[encoded data removed]",
      "text/plain": [
       "<Figure size 432x288 with 1 Axes>"
      ]
     },
     "metadata": {
      "needs_background": "light"
     }
    }
   ],
   "metadata": {}
  },
  {
   "cell_type": "code",
   "execution_count": 70,
   "source": [
    "w1, b1 = get_params()\r\n",
    "\r\n",
    "y_fit = w1*X + b1\r\n",
    "plt.clf()\r\n",
    "plt.plot(X, y, 'go', label='true/label data', alpha=0.5) \r\n",
    "plt.plot(X, y_fit, '--', label='predition', alpha=0.5)\r\n",
    "plt.legend(loc='best')\r\n",
    "plt.show()"
   ],
   "outputs": [
    {
     "output_type": "display_data",
     "data": {
      "image/png": "[encoded data removed]",
      "text/plain": [
       "<Figure size 432x288 with 1 Axes>"
      ]
     },
     "metadata": {
      "needs_background": "light"
     }
    }
   ],
   "metadata": {}
  }
 ],
 "metadata": {
  "orig_nbformat": 4,
  "language_info": {
   "name": "python",
   "version": "3.8.8",
   "mimetype": "text/x-python",
   "codemirror_mode": {
    "name": "ipython",
    "version": 3
   },
   "pygments_lexer": "ipython3",
   "nbconvert_exporter": "python",
   "file_extension": ".py"
  },
  "kernelspec": {
   "name": "python3",
   "display_name": "Python 3.8.8 64-bit ('pt181': conda)"
  },
  "interpreter": {
   "hash": "07405b10ce5dfd60c0bd6c22b3cc4b3176174e72a0696005be828dc6f52c9055"
  }
 },
 "nbformat": 4,
 "nbformat_minor": 2
}